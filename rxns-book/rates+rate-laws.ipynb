{
 "cells": [
  {
   "cell_type": "markdown",
   "metadata": {},
   "source": [
    "$$\\require{mhchem}$$       "
   ]
  },
  {
   "cell_type": "markdown",
   "metadata": {},
   "source": [
    "# Announcements"
   ]
  },
  {
   "cell_type": "markdown",
   "metadata": {},
   "source": [
    "##  Demo of fixing pdf conversion"
   ]
  },
  {
   "cell_type": "markdown",
   "metadata": {},
   "source": [
    "## Outstanding docker issues?"
   ]
  },
  {
   "cell_type": "markdown",
   "metadata": {},
   "source": [
    "- Blank folder when using jupyter"
   ]
  },
  {
   "cell_type": "markdown",
   "metadata": {},
   "source": [
    "\n",
    "# Reaction rates and rate laws\n",
    "\n"
   ]
  },
  {
   "cell_type": "markdown",
   "metadata": {},
   "source": [
    "\n",
    "## The rate of a reaction\n",
    "\n"
   ]
  },
  {
   "cell_type": "markdown",
   "metadata": {},
   "source": [
    "-   We are now in a position to define the rate of a reaction as:\n",
    "\n",
    "\\begin{equation}\n",
    "R^* = \\frac{dX}{dt}\n",
    "\\end{equation}\n",
    "\n",
    "-   which is the rate of the change of the extensive reaction extent. Note that this is:\n",
    "\n",
    "-   Independent of any particular species\n",
    "-   Dependent on how the reaction is written\n",
    "\n",
    "-   The second point is a result of how we defined $X$.\n",
    "\n",
    "-   For the reaction $\\ce{2H2 + O2 -> 2H2O}$ we defined:\n",
    "\n",
    "\\begin{equation}\n",
    "\\frac{N_{A_1} - N_{A_1,0}}{-2} = \\frac{N_{A_2} - N_{A_2,0}}{-1} = \\frac{N_{A_3} - N_{A_3,0}}{2} = X\n",
    "\\end{equation}\n",
    "\n",
    "-   For the reaction $\\ce{H2 + 1/2O2 -> H2O}$  we can define:\n",
    "\n",
    "\\begin{equation}\n",
    "\\frac{N_{A_1} - N_{A_1,0}}{-1} = \\frac{N_{A_2} - N_{A_2,0}}{-0.5} = \\frac{N_{A_3} - N_{A_3,0}}{1} = X'\n",
    "\\end{equation}\n",
    "\n",
    "-   You can see that $X$ depends on the stoichiometric coefficients, so we have to know the reaction and how it was written when we discuss reaction rates.\n",
    "\n",
    "-   $X$ is an extensive variable with units of moles\n",
    "\n",
    "Exercise: Suppose we start with 2 moles of oxygen at t=0 in a reactor. Later,  there is 1.4 moles of oxygen remaining. Calculate the extent of reaction for these two reactions. Use the extent to determine how much hydrogen is remaining.\n",
    "\n",
    "1. $\\ce{2H2 + O2 -> 2H2O}$\n",
    "\n",
    "2.  $\\ce{H2 + 1/2O2 -> H2O}$\n",
    "\n"
   ]
  },
  {
   "cell_type": "markdown",
   "metadata": {},
   "source": [
    "\n",
    "## The rate of disappearance of a reactant\n",
    "\n"
   ]
  },
  {
   "cell_type": "markdown",
   "metadata": {},
   "source": [
    "-   Now, recalling that $X = \\frac{N_{A_j} - N_{A_j,0}}{\\alpha_j}$, we arrive at:\n",
    "\n",
    "\\begin{equation}\n",
    "\\frac{dX}{dt} = \\frac{1}{\\alpha_j} \\frac{dN_{A_J}}{dt}\n",
    "\\end{equation}\n",
    "\n",
    "or rearranging, and using $R^*$:\n",
    "\n",
    "\\begin{equation}\n",
    "\\frac{dN_{A_J}}{dt} = \\alpha_j R^*\n",
    "\\end{equation}\n",
    "\n",
    "-   Thus, the change in composition of species J *due to the reaction* is just the stoichiometric coefficient for that species times the reaction rate. If the volume is constant:\n",
    "\n",
    "\\begin{equation}\n",
    "r = R^* / V = \\frac{d\\xi}{dt}\n",
    "\\end{equation}\n",
    "\n",
    "This defines the intensive reaction rate, with units of mol / vol / time.\n",
    "\n",
    "That also leads to (only for constant volume!)\n",
    "\n",
    "\\begin{equation}\n",
    "\\frac{dC_{A_J}}{dt} = \\alpha_j r\n",
    "\\end{equation}\n",
    "\n",
    "-   We define the species rate of production as:\n",
    "\n",
    "\\begin{equation}\n",
    "r_j = \\alpha_j r\n",
    "\\end{equation}\n",
    "\n",
    "-   This is **NOT** the rate law!\n",
    "    -   It is a relationship between the rate of appearance of a species and the reaction rate\n",
    "    \n",
    "    -   One of our goals is to find the function that describes the rate of the reaction and its dependence on concentration and temperature\n",
    "    \n",
    "    -   This will come later in the course.\n",
    "\n"
   ]
  },
  {
   "cell_type": "markdown",
   "metadata": {},
   "source": [
    "\n",
    "## Rates of disappearance and appearance of other species\n",
    "\n"
   ]
  },
  {
   "cell_type": "markdown",
   "metadata": {},
   "source": [
    "-   The stoichiometric coefficients define the rates of appearance and disappearance of other species.\n",
    "\n",
    "\\begin{equation}\n",
    "r = \\frac {r_{A_1}}{\\alpha_1} = \\frac{r_{A_2}}{\\alpha_2}  = \\frac{r_{A_3}}{\\alpha_3} \\cdots\n",
    "\\end{equation}\n",
    "\n",
    "-   Remember that stoichiometric coefficients of reactants are negative, and products are positive\n",
    "\n",
    "-   We call $r$ the rate of the reaction with units (typically) mol / vol / time\n",
    "\n",
    "-   The rate of disappearance of species $A_1$ is $r_{A_1} = \\alpha_1 r$\n",
    "\n",
    "-   The rate generally depends on the concentration of reactants (and sometimes products), as well as the temperature of the reactor.\n",
    "\n"
   ]
  },
  {
   "cell_type": "markdown",
   "metadata": {},
   "source": [
    "\n",
    "### Practice\n",
    "\n"
   ]
  },
  {
   "cell_type": "markdown",
   "metadata": {},
   "source": [
    "The ethylene epoxidation reaction has the following stoichiometry:\n",
    "\n",
    "\\begin{equation}\n",
    "\\ce{C2H4 + 1/2O2 -> C2H4O}\n",
    "\\end{equation}\n",
    "\n",
    "If we have a reactor with one mole of ethylene and one mole of oxygen, which reactant is stoichiometrically limiting? Ethylene or oxygen?\n",
    "\n",
    "If oxygen is consumed at 1 mol/min, what is the rate of ethylene consumption? [1/2 mol/min, 1 mol/min, 2 mol/min]?\n",
    "\n",
    "What is the maximum amount of ethylene oxide that can be produced? [1/2 mol, 1 mol, 2 mol]\n",
    "\n"
   ]
  },
  {
   "cell_type": "markdown",
   "metadata": {},
   "source": [
    "\n",
    "## Rate laws\n",
    "\n"
   ]
  },
  {
   "cell_type": "markdown",
   "metadata": {},
   "source": [
    "-   The rate law is an algebraic equation that relates the rate of reaction to the concentrations of reactants, products and temperature.\n",
    "\n",
    "-   Law of mass action for elementary steps:\n",
    "    -   Reaction rate is proportional to the concentration of each reactant raised to its stoichiometric coefficient\n",
    "    -   That is the definition of an elementary reaction\n",
    "    -   For example: $A + B \\rightarrow C$\n",
    "        -   $r = k C_A C_B$\n",
    "    \n",
    "    -   $2A \\rightarrow B$\n",
    "        -   $r = k C_A^2$\n",
    "\n",
    "-   Many other more complex rate laws exist for non-elementary reactions\n",
    "    -   $r = \\frac {k_1 C_A}{1 + k_2 C_A}$ e.g. for surface reactions or enzyme reactions\n",
    "    \n",
    "    -   $r = k C_A^{3/2}$ for complex mechanisms\n",
    "\n",
    "-   Rate laws are ultimately determined from experiments\n",
    "\n",
    "-   We use these rate laws in conjunction with stoichiometry and mole balances to design reactors.\n",
    "\n"
   ]
  },
  {
   "cell_type": "markdown",
   "metadata": {},
   "source": [
    "\n",
    "# ODEs in python\n",
    "\n"
   ]
  },
  {
   "cell_type": "markdown",
   "metadata": {},
   "source": [
    "We solve ordinary differential equations in the form  of $f'(X) = f(X, f, f')$. We will use numerical integration to solve these kinds of equations. These basically work by integrating the equations from some known initial condition on some range of the independent variable.  [odeint](odeint)\n",
    "\n",
    "[scipy.integrate.odeint](https://docs.scipy.org/doc/scipy/reference/generated/scipy.integrate.odeint.html)\n",
    "\n",
    "Let us consider $\\frac{dy}{dx} = y(x)$ with $y(0) = 1$. Let us evaluate the solution from x=0 to x=2. The solution to this ODE is simply $y(x) = e^x$, and we plot that for comparison.\n",
    "\n",
    "We have to define a function in Python to define f(X, f, f').\n",
    "\n"
   ]
  },
  {
   "cell_type": "code",
   "execution_count": 26,
   "metadata": {},
   "outputs": [
    {
     "name": "stdout",
     "output_type": "stream",
     "text": [
      "[2.01375273]\n"
     ]
    },
    {
     "data": {
<<<<<<< HEAD
      "image/png": "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\n",
=======
      "image/png": "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\n",
>>>>>>> pr/1
      "text/plain": [
       "<Figure size 432x288 with 1 Axes>"
      ]
     },
     "metadata": {},
     "output_type": "display_data"
    }
   ],
   "source": [
    "import numpy as np\n",
    "from scipy.integrate import odeint\n",
    "import matplotlib.pyplot as plt\n",
    "\n",
    "\n",
    "def dydx(y, t):\n",
    "    return y\n",
    "\n",
    "xspan = np.linspace(0, 0.7)\n",
    "y0 = 1\n",
    "\n",
    "sol = odeint(dydx, y0, xspan)\n",
    "print(sol[-1])\n",
    "plt.plot(xspan, sol)\n",
    "plt.plot(xspan, np.exp(xspan), 'r--')\n",
    "plt.xlabel('x')\n",
    "plt.ylabel('y')\n",
    "plt.legend(['numerical solution', 'analytical solution'], loc='best')\n",
    "plt.show()"
   ]
  },
  {
   "cell_type": "markdown",
   "metadata": {},
   "source": [
    "Note the use of a dashed line on the second plot so that it is apparent the red dashed line lies on top of the blue line, and the use of the legend to show which line is which.\n",
    "\n",
    "\n"
   ]
  },
  {
   "cell_type": "markdown",
   "metadata": {},
   "source": [
    "# Find ODE solutions that hit targets"
   ]
  },
  {
   "cell_type": "markdown",
   "metadata": {},
   "source": [
    "Let's say that we wanted to find the time at which y crosses 2. One (naive) way to implement this is by wrapping the solver in an fsolve:"
   ]
  },
  {
   "cell_type": "code",
   "execution_count": 23,
   "metadata": {},
   "outputs": [
    {
     "name": "stdout",
     "output_type": "stream",
     "text": [
      "The integration reaches 2 at 0.693\n"
     ]
    }
   ],
   "source": [
    "import numpy as np\n",
    "from scipy.integrate import odeint\n",
    "from scipy.optimize import fsolve\n",
    "import matplotlib.pyplot as plt\n",
    "\n",
    "\n",
    "def dydx(y, t):\n",
    "    return y\n",
    "\n",
    "def objective(tmax):\n",
    "    xspan = np.linspace(0, tmax)\n",
    "    y0 = 1\n",
    "    sol = odeint(dydx, y0, xspan)\n",
    "    return sol[-1]-2\n",
    "\n",
    "sol = fsolve(objective,0.4)\n",
    "\n",
    "print('The integration reaches 2 at %1.3f'%sol)"
   ]
  },
  {
   "cell_type": "code",
   "execution_count": null,
   "metadata": {},
   "outputs": [],
   "source": []
  }
 ],
 "metadata": {
  "kernelspec": {
   "display_name": "Python 3",
   "language": "python",
   "name": "python3"
  },
  "language_info": {
   "codemirror_mode": {
    "name": "ipython",
    "version": 3
   },
   "file_extension": ".py",
   "mimetype": "text/x-python",
   "name": "python",
   "nbconvert_exporter": "python",
   "pygments_lexer": "ipython3",
   "version": "3.6.5"
  },
  "toc": {
   "base_numbering": 1,
   "nav_menu": {
    "height": "155px",
    "width": "252px"
   },
   "number_sections": true,
   "sideBar": true,
   "skip_h1_title": false,
   "title_cell": "Table of Contents",
   "title_sidebar": "Contents",
   "toc_cell": false,
   "toc_position": {},
   "toc_section_display": "block",
   "toc_window_display": false
  }
 },
 "nbformat": 4,
 "nbformat_minor": 2
}
