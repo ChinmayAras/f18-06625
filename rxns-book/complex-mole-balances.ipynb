{
 "cells": [
  {
   "cell_type": "markdown",
   "metadata": {},
   "source": [
    "$$\\require{mhchem}$$       "
   ]
  },
  {
   "cell_type": "markdown",
   "metadata": {},
   "source": [
    "# Mole balances with changing number of moles"
   ]
  },
  {
   "cell_type": "markdown",
   "metadata": {},
   "source": [
    "-   The reason it is important to know whether the total number of moles is changing in a reactor is because we define the concentration of a species in a flowing system as\n",
    "\n",
    "$ C_j = \\frac{F_j}{\\nu} $\n",
    "\n",
    "where $\\nu$ is the total volumetric flowrate, and we need these concentrations to evaluate the rate laws.\n",
    "\n",
    "-   For reactions with no change in total moles, no pressure drops, and isothermal conditions, &nu; is a constant.\n",
    "\n",
    "-   In all other cases, &nu; changes, and we have to compute &nu; to compute the concentrations for use in the rate laws.\n",
    "\n",
    "-   We know at the entrance of the reactor that\n",
    "\n",
    "$P_0 \\nu_0 = F_{T0} R T_0 Z_0$\n",
    "\n",
    "-   Here we have the initial pressure, volumetric flowrate, temperature and compressibility factor. At some later point in the reactor or in time, we also have:\n",
    "\n",
    "$P \\nu = F_T R T Z$\n",
    "\n",
    "-   Now, even if we are isothermal, so that $T = T_0$; isobaric, so that $P = P_0$; and there is no change in compressibility, i.e. $Z = Z_0$, if the total molar flow rate has changed, there will be a change in the volumetric flow.\n",
    "\n",
    "-   The ratio of these two equations leads to this expression for the volumetric flow rate in a reactor where the total number of moles is changing:\n",
    "\n",
    "$ \\nu = \\nu_0 \\frac{F_T}{F_{T0}} \\frac{P0}{P} \\frac{T}{T_0} \\frac{Z}{Z_0} $\n",
    "\n",
    "-   Here, the total molar flow is simply the sum of the molar flows of each species (including inert species) in the reactor, $F_T = \\sum_{i=0}^N F_j$.\n",
    "\n",
    "-   That means we now need to calculate the molar flow of each species, which in general means we will have a species mole balance for each species. For single reactions, it is often possible to relate these molar flows by stoichiometry.\n",
    "\n",
    "-   Consider this reaction, e.g. ethane cracking to ethylene and hydrogen.\n",
    "\n",
    "$\\ce{A -> B + C}$\n",
    "\n",
    "-   As the reaction proceeds, we convert one mole of reactants to two moles of products.\n",
    "\n",
    "-   We want to design a plug flow reactor to consume 80% of the ethane that enters the reactor. It is given that $-r_A = k C_A$ with $k=0.072$ 1/s at 1000K.\n",
    "\n",
    "-   Let the initial molar flowrate be 0.425 mol / s of pure A into the reactor at a total pressure of 6 atm. The initial concentration of A is $C_{A0} = P_{A0} / (R T)$. From this, we calculate the initial volumetric flowrate: $\\nu_0 = F_{A0} / C_{A0}$\n",
    "\n",
    "-   first we use the quantities package to do some unit conversions to get consistent SI units\n",
    "\n"
   ]
  },
  {
   "cell_type": "code",
   "execution_count": 1,
   "metadata": {},
   "outputs": [
    {
     "name": "stdout",
     "output_type": "stream",
     "text": [
      "C_{A0} = 0.0007216742843396681 mol*atm/J\n",
      "C_{A0} (simplified) = 73.12364686071687 mol/m**3\n",
      "$\\nu_{0} = 0.005812073361296159 m**3/s$\n"
     ]
    }
   ],
   "source": [
    "import quantities as u\n",
    "\n",
    "PA0 = 6 * u.atm\n",
    "T = 1000 * u.K\n",
    "R = 8.314 * u.J / u.mol / u.K\n",
    "\n",
    "CA0 = PA0 / ( R * T)\n",
    "\n",
    "# note the use of {{}}. This is to get {} in the output.\n",
    "# If we used {A0} we would get an error, because of the formatting.\n",
    "print('C_{{A0}} = {0}'.format(CA0))\n",
    "print('C_{{A0}} (simplified) = {0}'.format(CA0.simplified))\n",
    "\n",
    "FA0 = 0.425 * u.mol / u.s\n",
    "v0 = FA0 / CA0\n",
    "\n",
    "# note the double \\\\. That is because \\n is a carriage return\n",
    "# we have to use a \\ to escape the \\, so that we see \\ in the\n",
    "# printed output. We want that so it is in LaTeX format.\n",
    "print('$\\\\nu_{{0}} = {0}$'.format(v0.simplified))"
   ]
  },
  {
   "cell_type": "markdown",
   "metadata": {},
   "source": [
    "-   If we assume there is no pressure drop, and that 80% of A has reacted at the exit, with pure A at the entrance, then we know from stoichiometry that there will be this total molar flow at the exit:\n",
    "\n",
    "$0.20 F_{A0} + 0.8 F_{A0} + 0.8 F_{A0}$\n",
    "\n",
    "Thus, we can calculate the exit concentration as $ 0.2 F_{A0} / \\nu_{exit}$:\n",
    "\n"
   ]
  },
  {
   "cell_type": "code",
   "execution_count": 2,
   "metadata": {},
   "outputs": [
    {
     "name": "stdout",
     "output_type": "stream",
     "text": [
      "Entrance volumetric flowrate is 0.005812073361296159 m**3/s.\n",
      "Exit volumetric flowrate is 0.01046173205033309 m**3/s.\n",
      "Exit concentration of A is 8.124849651190761 mol/m**3\n",
      "\n",
      "which is not 0.2 * CA0 (14.624729372143374 mol/m**3)\n"
     ]
    }
   ],
   "source": [
    "import quantities as u\n",
    "FA0 = 0.425 * u.mol / u.s\n",
    "PA0 = 6 * u.atm\n",
    "T = 1000 * u.K\n",
    "R = 8.314 * u.J / u.mol / u.K\n",
    "\n",
    "CA0 = PA0 / ( R * T)\n",
    "v0 = FA0 / CA0\n",
    "\n",
    "# Total molar exit flow\n",
    "F_exit = 0.2 * FA0 + 0.8 * FA0 + 0.8 * FA0\n",
    "\n",
    "v = v0 * F_exit / FA0\n",
    "print('Entrance volumetric flowrate is {0}.'.format(v0.simplified))\n",
    "print('Exit volumetric flowrate is {0}.'.format(v.simplified))\n",
    "\n",
    "CA_exit = 0.2 * FA0 / v\n",
    "\n",
    "# Note the triple quoted, multiline string.\n",
    "print('''Exit concentration of A is {0}\n",
    "\n",
    "which is not 0.2 * CA0 ({1})'''.format(CA_exit.simplified,\n",
    "                                         (0.2 * CA0).simplified))"
   ]
  },
  {
   "cell_type": "markdown",
   "metadata": {},
   "source": [
    "-   You can see just by this algebra that the concentration changes because of the chemical reaction that consumes A, but also because the number of moles is changing, and the volumetric flowrate is increasing.\n",
    "\n",
    "-   Since the volumetric flow is changing, the concentration changes\n",
    "\n",
    "-   We have to account for that in our mole balances. The normal mole balance for a plug flow reactor looks like:\n",
    "\n",
    "$ \\frac{dF_A}{dV} = r_A $. Here, it is convenient to invert the equation:\n",
    "\n",
    "$ \\frac{dV}{dF_A} = \\frac{1}{r_A} $\n",
    "\n",
    "because then we can integrate over the molar flow to directly compute the volume.\n",
    "\n",
    "-   this only works for this simple ODE.\n",
    "-   We compute the molar flows of B and C using the reaction extent: $F_j = F_{j0} + \\xi \\alpha_j$.\n",
    "\n",
    "-   Note we are not using the quantities package here. But we use the results from above to get the units consistent in SI.\n",
    "\n"
   ]
  },
  {
   "cell_type": "code",
   "execution_count": 3,
   "metadata": {},
   "outputs": [
    {
     "name": "stdout",
     "output_type": "stream",
     "text": [
      "At a volume of 0.195 m^3 we achieve 80% conversion of A\n"
     ]
    },
    {
     "data": {
      "image/png": "[encoded data removed]",
      "text/plain": [
       "<matplotlib.figure.Figure at 0x7f539c59f940>"
      ]
     },
     "metadata": {},
     "output_type": "display_data"
    }
   ],
   "source": [
    "import numpy as np\n",
    "from scipy.integrate import odeint\n",
    "\n",
    "Fa0 = 0.425             # mol / s\n",
    "Fb0 = 0\n",
    "Fc0 = 0\n",
    "Fa_exit = 0.2 * Fa0\n",
    "\n",
    "# we previously calculated this number\n",
    "v0 = 0.0058120733613    # m**3 / s\n",
    "k = 0.072               # 1 / s\n",
    "\n",
    "def dVdFa(V, Fa):\n",
    "    xi = (Fa - Fa0) / (-1) # compute reaction extent\n",
    "    Fb = Fb0 + xi * 1\n",
    "    Fc = Fc0 + xi * 1\n",
    "    Ft = Fa + Fb + Fc   # total molar flow\n",
    "    v = v0  * Ft / Fa0   # volumetric flow\n",
    "\n",
    "    Ca = Fa / v\n",
    "    ra = -k * Ca\n",
    "    return 1.0 / ra\n",
    "\n",
    "Fspan = np.linspace(Fa0, Fa_exit)\n",
    "\n",
    "V0 = 0\n",
    "sol = odeint(dVdFa, V0, Fspan)\n",
    "\n",
    "print('At a volume of {0:1.3f} m^3 we achieve 80% conversion of A'.format(sol[-1][0]))\n",
    "\n",
    "import matplotlib.pyplot as plt\n",
    "plt.plot(Fspan, sol)\n",
    "plt.xlabel('F$_A$ (mol/s)')\n",
    "plt.ylabel('Volume (m$^3$)')\n",
    "plt.show()"
   ]
  },
  {
   "cell_type": "markdown",
   "metadata": {},
   "source": [
    "-   An alternative approach, and one that is needed for multiple reactions, is to use a mole balance for each species:\n",
    "\n",
    "\\begin{align}\n",
    "\\frac{dF_A}{dV} = r_A \\\\\n",
    "\\frac{dF_B}{dV} = r_B \\\\\n",
    "\\frac{dF_C}{dV} = r_C\n",
    "\\end{align}\n",
    "\n",
    "-   and to relate the rates of each species reaction rate to each other via stoichimetry:\n",
    "\n",
    "$ r = \\frac{r_A}{-1} = \\frac{r_B}{1} = \\frac{r_C}{1} $\n",
    "\n",
    "-   Here we cannot invert the ODE, because we have coupled odes.\n",
    "\n"
   ]
  },
  {
   "cell_type": "code",
   "execution_count": 4,
   "metadata": {},
   "outputs": [
    {
     "name": "stdout",
     "output_type": "stream",
     "text": [
      "At a volume of 0.195 m^3 we achieve 80% conversion of A\n"
     ]
    },
    {
     "data": {
      "image/png": "[encoded data removed]",
      "text/plain": [
       "<matplotlib.figure.Figure at 0x7f5381122dd8>"
      ]
     },
     "metadata": {},
     "output_type": "display_data"
    }
   ],
   "source": [
    "import numpy as np\n",
    "from pycse import odelay\n",
    "\n",
    "Fa0 = 0.425             # mol / s\n",
    "Fa_exit = 0.2 * Fa0\n",
    "\n",
    "v0 = 0.0058120733613    # m^3 / s\n",
    "k = 0.072               # 1 / s\n",
    "\n",
    "Ft0 = Fa0\n",
    "\n",
    "def dFdV(F, V):\n",
    "\n",
    "    Fa, Fb, Fc = F    # we only need Fa for the rate law\n",
    "    Ft = sum(F)       # total flow rate\n",
    "    v = v0 * Ft / Ft0\n",
    "\n",
    "    Ca = Fa / v\n",
    "    ra = - k * Ca\n",
    "    rb = -ra\n",
    "    rc = -ra\n",
    "\n",
    "    dFadV = ra\n",
    "    dFbdV = rb\n",
    "    dFcdV = rc\n",
    "\n",
    "    return [dFadV, dFbdV, dFcdV]\n",
    "\n",
    "def event(F, V):\n",
    "    Fa, Fb, Fc = F\n",
    "    value = Fa - 0.2 * Fa0\n",
    "    isterminal = True\n",
    "    direction = 0\n",
    "    return value, isterminal, direction\n",
    "\n",
    "Vspan = np.linspace(0, 1)  # m**3\n",
    "\n",
    "# Initial conditions, one for each ODE\n",
    "F0 = [Fa0, 0, 0]\n",
    "\n",
    "V, sol, TE, YE, IE = odelay(dFdV, F0, Vspan, [event])\n",
    "\n",
    "print('At a volume of {0:1.3f} m^3 we achieve 80% conversion of A'.format(V[-1]))\n",
    "\n",
    "import matplotlib.pyplot as plt\n",
    "Fa = sol[:, 0]\n",
    "Fb = sol[:, 1]\n",
    "Fc = sol[:, 2]\n",
    "\n",
    "plt.plot(V, Fa, 'ko',\n",
    "         V, Fb, 'b',\n",
    "         V, Fc, 'r--')\n",
    "\n",
    "plt.xlabel('Volume (m$^3$)')\n",
    "plt.ylabel('F$_j$ (mol/s)')\n",
    "\n",
    "plt.legend(['A', 'B', 'C'])\n",
    "plt.show()"
   ]
  },
  {
   "cell_type": "markdown",
   "metadata": {},
   "source": [
    "-   This approach is more involved, but when there are multiple reactions, and net rates of reaction must be considered, this is the only way to proceed with reactor design.\n"
   ]
  },
  {
   "cell_type": "markdown",
   "metadata": {},
   "source": [
    "## Summary"
   ]
  },
  {
   "cell_type": "markdown",
   "metadata": {},
   "source": [
    "-   It is important to keep track of when the number of moles in a reaction change because we define the concentration of a species as\n",
    "\n",
    "$ C_j = F_j / \\nu $\n",
    "\n",
    "-   and &nu; depends on the total number of moles in the system.\n",
    "\n",
    "$ \\nu = \\nu_0 \\frac{F_T}{F_{T0}} \\frac{P0}{P} \\frac{T}{T_0} \\frac{Z}{Z_0} $\n",
    "\n",
    "-   We will see in the next section that pressure drops affect reactor design because of the change it causes in volumetric flow also.\n",
    "\n"
   ]
  },
  {
   "cell_type": "markdown",
   "metadata": {},
   "source": [
    "# Mole balances with pressure drops"
   ]
  },
  {
   "cell_type": "markdown",
   "metadata": {},
   "source": [
    "-   We have previously seen that we must account for changing volumetric flowrates in reactor design because the concentrations of species used in computing reaction rates are dependent on the volumetric flowrate.\n",
    "\n",
    "-   This can be important even when the total molar flow is constant, if there is a pressure drop in the reactor, i.e. if the pressure at the entrance is not the same as the pressure at the exit of the reactor:\n",
    "\n",
    "$ \\nu = \\nu_0 \\frac{F_T}{F_{T0}} \\frac{P_0}{P} \\frac{T}{T_0} \\frac{Z}{Z_0} $\n",
    "\n",
    "-   Since the pressure drops through a reactor, if nothing else changes, the volumetric flow will increase (this is a consequence of conservation of mass). The consequence of this is the following:\n",
    "\n",
    "$C_A = \\frac{F_A}{\\nu} = \\frac{F_A}{\\nu_0}\\frac{F_{T0}}{F_{T}} \\frac{P}{P_0} $\n",
    "\n",
    "-   This is especially important for packed bed reactors, which are often filled with catalyst beads that can impede the flow.\n",
    "\n",
    "-   Since we apply this specifically to a packed bed reactor, it is convenient to work in terms of catalyst weight, rather than reactor volume.\n",
    "\n",
    "-   The two quantities are related by $W = \\rho_b V = \\rho_c (1 - \\phi) V$ where $W$ is the weight, &rho;\\_b is the bulk catalyst density, &rho;\\_c is the density of solid catalyst, and &phi; is the porosity of the catalyst.\n",
    "\n",
    "-   We know how to develop mole balances for $F_A$, but these will lead to equations of the form $\\frac{dF_j}{dW} = f(F, P)$, which has an additional variable $P$ in it. Now  we need to have a quantitative expression for the pressure at some point in a reactor, as a function of the molar flows of each species.\n",
    "\n",
    "-   The pressure drop through a packed bed can be modeled with the Ergun equation. This is one of the more common approaches to considering pressure drops.\n",
    "\n",
    "-   The most important result is that\n",
    "\n",
    "$\\frac{dP}{dW} = -\\frac{\\beta_0}{A_c (1 - \\phi) \\rho_c}\\frac{P_0}{P} \\frac{T}{T_0} \\frac{F_T}{F_{T0}} $\n",
    "\n",
    "where:\n",
    "\n",
    "$\\beta_0 = \\frac{G (1 - \\phi)}{\\rho_0 g_c D_p \\phi^3}\\left [ \\frac{150 (1 - \\phi) \\mu}{D_p} + 1.75 G \\right] $\n",
    "\n",
    "-   &beta;\\_0 is a constant that depends only on the properties of the packed bed, and the entrance gas conditions:\n",
    "\n",
    "<table border=\"2\" cellspacing=\"0\" cellpadding=\"6\" rules=\"groups\" frame=\"hsides\">\n",
    "\n",
    "\n",
    "<colgroup>\n",
    "<col  class=\"org-left\" />\n",
    "\n",
    "<col  class=\"org-left\" />\n",
    "</colgroup>\n",
    "<tbody>\n",
    "<tr>\n",
    "<td class=\"org-left\">A\\_c</td>\n",
    "<td class=\"org-left\">bed cross-sectional area</td>\n",
    "</tr>\n",
    "\n",
    "\n",
    "<tr>\n",
    "<td class=\"org-left\">&rho;\\_c</td>\n",
    "<td class=\"org-left\">solid catalyst density</td>\n",
    "</tr>\n",
    "\n",
    "\n",
    "<tr>\n",
    "<td class=\"org-left\">&phi;</td>\n",
    "<td class=\"org-left\">catalyst porosity</td>\n",
    "</tr>\n",
    "\n",
    "\n",
    "<tr>\n",
    "<td class=\"org-left\">&mu;</td>\n",
    "<td class=\"org-left\">gas viscosity</td>\n",
    "</tr>\n",
    "\n",
    "\n",
    "<tr>\n",
    "<td class=\"org-left\">G</td>\n",
    "<td class=\"org-left\">superficial mass velocity (&rho; u)</td>\n",
    "</tr>\n",
    "\n",
    "\n",
    "<tr>\n",
    "<td class=\"org-left\">u</td>\n",
    "<td class=\"org-left\">superficial velocity (volumetric flow / A\\_c)</td>\n",
    "</tr>\n",
    "\n",
    "\n",
    "<tr>\n",
    "<td class=\"org-left\">D\\_p</td>\n",
    "<td class=\"org-left\">catalyst bead diameter</td>\n",
    "</tr>\n",
    "\n",
    "\n",
    "<tr>\n",
    "<td class=\"org-left\">g\\_c</td>\n",
    "<td class=\"org-left\">32.174 lb\\_m ft/s^2/lb\\_f     (in metric g\\_c=1)</td>\n",
    "</tr>\n",
    "\n",
    "\n",
    "<tr>\n",
    "<td class=\"org-left\">&rho;\\_0</td>\n",
    "<td class=\"org-left\">inlet gas density</td>\n",
    "</tr>\n",
    "</tbody>\n",
    "</table>\n",
    "\n",
    "-   Clearly, we need additional data, but the data are all constants. In fact, it is customary to lump additional constants, and to define:\n",
    "\n",
    "$\\alpha = \\frac{2 \\beta_0}{A_c \\rho_c (1 - \\phi) P_0} $ and to define $y = P / P_0$ so that we can reexpress the differential equation as:\n",
    "\n",
    "$ \\frac{dy}{dW} = -\\frac{\\alpha}{2 y}\\frac{T}{T_0} \\frac{F_T}{F_{T0}} $   (this is the important equation to remember)\n",
    "\n",
    "-   This equation has an analytical solution when there is no change in the total number of moles. From here you can see that y will decrease in an isothermal, isomolar reaction due to the negative sign.\n",
    "\n",
    "-   This equation depends on $F_T$, so it is coupled to the mole balances. So, we will typically have equations such as:\n",
    "\n",
    "\\begin{align}\n",
    "\\frac{dF_A}{dW} = r_A \\\\\n",
    "\\frac{dF_B}{dW} = r_B \\\\\n",
    "\\vdots \\\\\n",
    "\\frac{dy}{dW} = -\\frac{\\alpha}{2 y}\\frac{T}{T_0} \\frac{F_T}{F_{T0}}\n",
    "\\end{align}\n",
    "\n",
    "which must be numerically integrated with appropriate initial conditions.\n",
    "\n"
   ]
  },
  {
   "cell_type": "markdown",
   "metadata": {},
   "source": [
    "## A worked example with a pressure drop and inerts"
   ]
  },
  {
   "cell_type": "markdown",
   "metadata": {},
   "source": [
    "-   We consider the partial oxidation of ethylene to ethylene oxide:\n",
    "\n",
    "$\\ce{C_{2}H_4 + 1/2O_2 -> C_{2}H_{4}O}$\n",
    "\n",
    "-   Oxygen is fed in a stoichiometric amount in the form of air.\n",
    "\n",
    "-   The rate law is given as $-r_A = k P_A^{1/3} P_B^{2/3}$.\n",
    "    -   $k = 0.0141$ lb-mol / (atm \\* lb\\_m cat \\* h)\n",
    "\n",
    "-   A is fed at a rate of $F_{A0}$ = 1.08 lbmol / h\n",
    "-   B is fed at a rate of $0.5  F_{A0}$\n",
    "-   $F_{N_2} = F_B  0.8 / 0.2$\n",
    "\n",
    "-   The feed pressure is 10 atm.\n",
    "\n",
    "-   &alpha; for the conditions and bed are provided as 0.0166 1 / (lb\\_m cat).\n",
    "\n",
    "-   Let us estimate the catalyst weight required to achieve 60% conversion of A.\n",
    "\n",
    "-   We need a mole balance for each species so we can compute the total molar flow rate at any point.\n",
    "    -   We use the total molar flowrate to compute the total pressure\n",
    "    -   We use the mole fraction of each species to compute the species partial pressure for use in the rate law.\n",
    "    -   We use reaction stoichiometry to relate the species rates\n",
    "\n",
    "-   We need a differential equation on the change in pressure\n",
    "\n"
   ]
  },
  {
   "cell_type": "code",
   "execution_count": 13,
   "metadata": {},
   "outputs": [
    {
     "data": {
      "image/png": "[encoded data removed]",
      "text/plain": [
       "<matplotlib.figure.Figure at 0x7f537e9e7cf8>"
      ]
     },
     "metadata": {},
     "output_type": "display_data"
    },
    {
     "name": "stdout",
     "output_type": "stream",
     "text": [
      "0.609861618368\n"
     ]
    }
   ],
   "source": [
    "import numpy as np\n",
    "from scipy.integrate import odeint\n",
    "\n",
    "Fa0 = 1.08 # lbmol / h\n",
    "Fb0 = 0.5 * Fa0\n",
    "FI0 = Fb0 * 0.8 / 0.2  # flow rate of N2\n",
    "Fc0 = 0.0\n",
    "\n",
    "Ft0 = Fa0 + Fb0 + FI0 + Fc0\n",
    "P0 = 10 # atm\n",
    "\n",
    "alpha = 0.0166 # 1 / lb_m cat\n",
    "k = 0.0141 # lb-mol / (atm * lb_m cat * h)\n",
    "\n",
    "def ode(F, W):\n",
    "    Fa, Fb, Fc, y = F  # unpack the variables\n",
    "    P = y * P0\n",
    "\n",
    "    Ft = Fa + Fb + Fc + FI0 # do not forget the inerts!\n",
    "\n",
    "    Pa = Fa / Ft * P\n",
    "    Pb = Fb / Ft * P\n",
    "\n",
    "    # the stoichiometry\n",
    "    ra = -k * Pa**(1.0/3.0) * Pb**(2.0 / 3.0)\n",
    "    rb = 0.5 * ra\n",
    "    rc = -ra\n",
    "\n",
    "    # define the 4 coupled ODES\n",
    "    dFadW = ra\n",
    "    dFbdW = rb\n",
    "    dFcdW = rc\n",
    "    dydW = -alpha /(2 * y) * Ft / Ft0\n",
    "\n",
    "    return [dFadW, dFbdW, dFcdW, dydW]\n",
    "\n",
    "# initial conditions\n",
    "y0 = 1.0 # P0/P0\n",
    "F0 = [Fa0, Fb0, Fc0, y0]\n",
    "\n",
    "Wspan = np.linspace(0, 50) # lb_m cat\n",
    "\n",
    "sol = odeint(ode, F0, Wspan)\n",
    "\n",
    "import matplotlib.pyplot as plt\n",
    "\n",
    "Fa = sol[:, 0]\n",
    "Fb = sol[:, 1]\n",
    "Fc = sol[:, 2]\n",
    "y = sol[:, 3]\n",
    "\n",
    "\n",
    "\n",
    "plt.subplot(1, 2, 1) # subplot with two columns in one row\n",
    "plt.plot(Wspan, sol[:, 0:3]) # plot columns 0, 1, 2\n",
    "\n",
    "plt.plot(Wspan, Fa, Wspan, Fb, Wspan, Fc)\n",
    "\n",
    "plt.legend(['A', 'B', 'C'], loc='lower center')\n",
    "plt.xlabel('Catalyst weight ($lb_m$)')\n",
    "plt.ylabel('Molar flow (mol/min)')\n",
    "\n",
    "plt.subplot(1, 2, 2)\n",
    "plt.plot(Wspan, sol[:, 3], 'k--') # plot column 3\n",
    "plt.xlabel('Catalyst weight ($lb_m$)')\n",
    "plt.ylabel('$P/P_0$')\n",
    "plt.legend(['$P/P_0$'],loc='upper right')\n",
    "\n",
    "plt.tight_layout()\n",
    "plt.show()\n",
    "\n",
    "Fa, Fb, Fc, y = sol.T\n",
    "X = (Fa0 - Fa[-1])/ Fa0\n",
    "\n",
    "\n",
    "print(X)"
   ]
  },
  {
   "cell_type": "markdown",
   "metadata": {},
   "source": [
    "-   You can see more than 50% pressure drop over the length of the bed\n",
    "\n",
    "-   Set &alpha; to 0 to see the effect of the pressure drop. Does conversion increase or decrease?\n",
    "\n"
   ]
  },
  {
   "cell_type": "code",
   "execution_count": 6,
   "metadata": {},
   "outputs": [
    {
     "name": "stdout",
     "output_type": "stream",
     "text": [
      "[0 1 3]\n",
      "[0 1]\n",
      "[1 2]\n",
      "[[0 1 3]\n",
      " [1 2 4]]\n",
      "[0 1 3]\n",
      "[[0, 1], [1, 2], [3, 4]]\n",
      "[[0 1 3]\n",
      " [1 2 4]]\n"
     ]
    }
   ],
   "source": [
    "import numpy as np\n",
    "\n",
    "A = np.array([[0, 1], [1, 2], [3, 4]])\n",
    "\n",
    "print(A[:, 0])\n",
    "\n",
    "a, b, c = A\n",
    "\n",
    "print(a)\n",
    "print(b)\n",
    "\n",
    "print(A.T)\n",
    "d, e = A.T\n",
    "print(d)\n",
    "\n",
    "\n",
    "Alist = [[0, 1], [1, 2], [3, 4]]\n",
    "print(Alist)\n",
    "print(np.transpose(Alist))"
   ]
  },
  {
   "cell_type": "code",
   "execution_count": 7,
   "metadata": {},
   "outputs": [
    {
     "name": "stdout",
     "output_type": "stream",
     "text": [
      "[0 1 2 3]\n",
      "[[0 1]\n",
      " [2 3]]\n"
     ]
    }
   ],
   "source": [
    "import numpy as np\n",
    "\n",
    "print(np.hstack([[0, 1], [2, 3]]))\n",
    "print(np.vstack([[0, 1], [2, 3]]))"
   ]
  }
 ],
 "metadata": {
  "kernelspec": {
   "display_name": "Python 3",
   "language": "python",
   "name": "python3"
  },
  "language_info": {
   "codemirror_mode": {
    "name": "ipython",
    "version": 3
   },
   "file_extension": ".py",
   "mimetype": "text/x-python",
   "name": "python",
   "nbconvert_exporter": "python",
   "pygments_lexer": "ipython3",
   "version": "3.6.2"
  },
  "toc": {
   "colors": {
    "hover_highlight": "#DAA520",
    "navigate_num": "#000000",
    "navigate_text": "#333333",
    "running_highlight": "#FF0000",
    "selected_highlight": "#FFD700",
    "sidebar_border": "#EEEEEE",
    "wrapper_background": "#FFFFFF"
   },
   "moveMenuLeft": true,
   "nav_menu": {
    "height": "101px",
    "width": "252px"
   },
   "navigate_menu": true,
   "number_sections": true,
   "sideBar": true,
   "threshold": 4,
   "toc_cell": false,
   "toc_section_display": "block",
   "toc_window_display": false,
   "widenNotebook": false
  }
 },
 "nbformat": 4,
 "nbformat_minor": 1
}
